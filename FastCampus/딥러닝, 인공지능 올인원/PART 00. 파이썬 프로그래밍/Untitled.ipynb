{
 "cells": [
  {
   "cell_type": "markdown",
   "metadata": {},
   "source": [
    "## 함수 연습문제 \n",
    "1. 주어진 숫자 리스트의 평균을 구하는 함수를 출력하시오.\n",
    "2. 해당 숫자가 소수인지 아닌지 판별하시오.\n",
    "3. 2부터 해당 숫자 사이에 소수가 몇 개인지 출력하는 함수를 구하시오."
   ]
  },
  {
   "cell_type": "code",
   "execution_count": 4,
   "metadata": {},
   "outputs": [
    {
     "name": "stdout",
     "output_type": "stream",
     "text": [
      "5.142857142857143\n",
      "5.142857142857143\n"
     ]
    }
   ],
   "source": [
    "# Q1\n",
    "def calcAvg(arr):\n",
    "    result = 0\n",
    "    for number in arr:\n",
    "        result += number\n",
    "    result /= len(arr)\n",
    "    return result\n",
    "\n",
    "def calcAvg2(arr):\n",
    "    return sum(arr) / len(arr)\n",
    "\n",
    "numList = [1, 4, 5, 6, 2, 7, 11]\n",
    "print(calcAvg(numList))\n",
    "print(calcAvg2(numList))"
   ]
  },
  {
   "cell_type": "code",
   "execution_count": 9,
   "metadata": {},
   "outputs": [
    {
     "name": "stdin",
     "output_type": "stream",
     "text": [
      " 17\n"
     ]
    },
    {
     "data": {
      "text/plain": [
       "True"
      ]
     },
     "execution_count": 9,
     "metadata": {},
     "output_type": "execute_result"
    }
   ],
   "source": [
    "# Q2\n",
    "def isPrime(num):\n",
    "    for i in range(2, num):\n",
    "        if (num % i == 0):\n",
    "            return False\n",
    "    return True\n",
    "num = int(input())\n",
    "\n",
    "isPrime(num)"
   ]
  },
  {
   "cell_type": "code",
   "execution_count": 7,
   "metadata": {},
   "outputs": [
    {
     "name": "stdout",
     "output_type": "stream",
     "text": [
      "True\n",
      "739\n"
     ]
    }
   ],
   "source": [
    "# Q3\n",
    "num = int(input())\n",
    " "
   ]
  }
 ],
 "metadata": {
  "kernelspec": {
   "display_name": "Python 3",
   "language": "python",
   "name": "python3"
  },
  "language_info": {
   "codemirror_mode": {
    "name": "ipython",
    "version": 3
   },
   "file_extension": ".py",
   "mimetype": "text/x-python",
   "name": "python",
   "nbconvert_exporter": "python",
   "pygments_lexer": "ipython3",
   "version": "3.7.6"
  }
 },
 "nbformat": 4,
 "nbformat_minor": 4
}
